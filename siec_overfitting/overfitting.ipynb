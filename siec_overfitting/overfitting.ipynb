{
  "cells": [
    {
      "cell_type": "code",
      "execution_count": 1,
      "metadata": {
        "id": "cEnTyavZpwKY"
      },
      "outputs": [],
      "source": [
        "import pandas as pd\n",
        "import torch.nn as nn\n",
        "import numpy as np\n",
        "import torch\n",
        "\n",
        "df_train = pd.read_csv('./train_data.csv')\n",
        "df_test = pd.read_csv('./test_data.csv')\n",
        "\n",
        "device = torch.device(\"cuda\")\n"
      ]
    },
    {
      "cell_type": "code",
      "execution_count": 2,
      "metadata": {
        "colab": {
          "base_uri": "https://localhost:8080/",
          "height": 364
        },
        "id": "Svq8zHC9pwKZ",
        "outputId": "77873ecf-6508-4eb2-ab31-a5cdac5b6643"
      },
      "outputs": [
        {
          "data": {
            "text/html": [
              "\n",
              "  <div id=\"df-97860a1a-62d0-43ee-8f32-3b2d4c15ca82\">\n",
              "    <div class=\"colab-df-container\">\n",
              "      <div>\n",
              "<style scoped>\n",
              "    .dataframe tbody tr th:only-of-type {\n",
              "        vertical-align: middle;\n",
              "    }\n",
              "\n",
              "    .dataframe tbody tr th {\n",
              "        vertical-align: top;\n",
              "    }\n",
              "\n",
              "    .dataframe thead th {\n",
              "        text-align: right;\n",
              "    }\n",
              "</style>\n",
              "<table border=\"1\" class=\"dataframe\">\n",
              "  <thead>\n",
              "    <tr style=\"text-align: right;\">\n",
              "      <th></th>\n",
              "      <th>SalePrice</th>\n",
              "      <th>YearBuilt</th>\n",
              "      <th>Size(sqf)</th>\n",
              "      <th>Floor</th>\n",
              "      <th>N_Parkinglot(Ground)</th>\n",
              "      <th>N_Parkinglot(Basement)</th>\n",
              "      <th>N_manager</th>\n",
              "      <th>N_elevators</th>\n",
              "      <th>N_FacilitiesInApt</th>\n",
              "      <th>N_FacilitiesNearBy(Total)</th>\n",
              "      <th>N_SchoolNearBy(Total)</th>\n",
              "    </tr>\n",
              "  </thead>\n",
              "  <tbody>\n",
              "    <tr>\n",
              "      <th>count</th>\n",
              "      <td>4124.000000</td>\n",
              "      <td>4124.000000</td>\n",
              "      <td>4124.000000</td>\n",
              "      <td>4124.000000</td>\n",
              "      <td>4124.000000</td>\n",
              "      <td>4124.000000</td>\n",
              "      <td>4124.000000</td>\n",
              "      <td>4124.000000</td>\n",
              "      <td>4124.000000</td>\n",
              "      <td>4124.000000</td>\n",
              "      <td>4124.000000</td>\n",
              "    </tr>\n",
              "    <tr>\n",
              "      <th>mean</th>\n",
              "      <td>222177.477207</td>\n",
              "      <td>2002.977934</td>\n",
              "      <td>959.958778</td>\n",
              "      <td>11.994665</td>\n",
              "      <td>192.789040</td>\n",
              "      <td>572.857662</td>\n",
              "      <td>6.313773</td>\n",
              "      <td>11.055771</td>\n",
              "      <td>5.824200</td>\n",
              "      <td>9.860330</td>\n",
              "      <td>10.872696</td>\n",
              "    </tr>\n",
              "    <tr>\n",
              "      <th>std</th>\n",
              "      <td>106325.535526</td>\n",
              "      <td>8.765838</td>\n",
              "      <td>384.548456</td>\n",
              "      <td>7.581330</td>\n",
              "      <td>215.455916</td>\n",
              "      <td>408.179957</td>\n",
              "      <td>3.224556</td>\n",
              "      <td>7.717030</td>\n",
              "      <td>2.344331</td>\n",
              "      <td>3.444848</td>\n",
              "      <td>4.427445</td>\n",
              "    </tr>\n",
              "    <tr>\n",
              "      <th>min</th>\n",
              "      <td>34070.000000</td>\n",
              "      <td>1978.000000</td>\n",
              "      <td>135.000000</td>\n",
              "      <td>1.000000</td>\n",
              "      <td>0.000000</td>\n",
              "      <td>0.000000</td>\n",
              "      <td>1.000000</td>\n",
              "      <td>0.000000</td>\n",
              "      <td>1.000000</td>\n",
              "      <td>0.000000</td>\n",
              "      <td>0.000000</td>\n",
              "    </tr>\n",
              "    <tr>\n",
              "      <th>25%</th>\n",
              "      <td>144752.000000</td>\n",
              "      <td>1993.000000</td>\n",
              "      <td>644.000000</td>\n",
              "      <td>6.000000</td>\n",
              "      <td>11.000000</td>\n",
              "      <td>184.000000</td>\n",
              "      <td>5.000000</td>\n",
              "      <td>5.000000</td>\n",
              "      <td>4.000000</td>\n",
              "      <td>8.000000</td>\n",
              "      <td>7.000000</td>\n",
              "    </tr>\n",
              "    <tr>\n",
              "      <th>50%</th>\n",
              "      <td>209588.000000</td>\n",
              "      <td>2006.000000</td>\n",
              "      <td>910.000000</td>\n",
              "      <td>11.000000</td>\n",
              "      <td>100.000000</td>\n",
              "      <td>536.000000</td>\n",
              "      <td>6.000000</td>\n",
              "      <td>11.000000</td>\n",
              "      <td>5.000000</td>\n",
              "      <td>9.000000</td>\n",
              "      <td>10.000000</td>\n",
              "    </tr>\n",
              "    <tr>\n",
              "      <th>75%</th>\n",
              "      <td>291570.000000</td>\n",
              "      <td>2007.000000</td>\n",
              "      <td>1160.000000</td>\n",
              "      <td>17.000000</td>\n",
              "      <td>249.000000</td>\n",
              "      <td>798.000000</td>\n",
              "      <td>8.000000</td>\n",
              "      <td>16.000000</td>\n",
              "      <td>7.000000</td>\n",
              "      <td>13.000000</td>\n",
              "      <td>15.000000</td>\n",
              "    </tr>\n",
              "    <tr>\n",
              "      <th>max</th>\n",
              "      <td>585840.000000</td>\n",
              "      <td>2015.000000</td>\n",
              "      <td>2337.000000</td>\n",
              "      <td>43.000000</td>\n",
              "      <td>713.000000</td>\n",
              "      <td>1321.000000</td>\n",
              "      <td>14.000000</td>\n",
              "      <td>27.000000</td>\n",
              "      <td>10.000000</td>\n",
              "      <td>16.000000</td>\n",
              "      <td>17.000000</td>\n",
              "    </tr>\n",
              "  </tbody>\n",
              "</table>\n",
              "</div>\n",
              "      <button class=\"colab-df-convert\" onclick=\"convertToInteractive('df-97860a1a-62d0-43ee-8f32-3b2d4c15ca82')\"\n",
              "              title=\"Convert this dataframe to an interactive table.\"\n",
              "              style=\"display:none;\">\n",
              "        \n",
              "  <svg xmlns=\"http://www.w3.org/2000/svg\" height=\"24px\"viewBox=\"0 0 24 24\"\n",
              "       width=\"24px\">\n",
              "    <path d=\"M0 0h24v24H0V0z\" fill=\"none\"/>\n",
              "    <path d=\"M18.56 5.44l.94 2.06.94-2.06 2.06-.94-2.06-.94-.94-2.06-.94 2.06-2.06.94zm-11 1L8.5 8.5l.94-2.06 2.06-.94-2.06-.94L8.5 2.5l-.94 2.06-2.06.94zm10 10l.94 2.06.94-2.06 2.06-.94-2.06-.94-.94-2.06-.94 2.06-2.06.94z\"/><path d=\"M17.41 7.96l-1.37-1.37c-.4-.4-.92-.59-1.43-.59-.52 0-1.04.2-1.43.59L10.3 9.45l-7.72 7.72c-.78.78-.78 2.05 0 2.83L4 21.41c.39.39.9.59 1.41.59.51 0 1.02-.2 1.41-.59l7.78-7.78 2.81-2.81c.8-.78.8-2.07 0-2.86zM5.41 20L4 18.59l7.72-7.72 1.47 1.35L5.41 20z\"/>\n",
              "  </svg>\n",
              "      </button>\n",
              "      \n",
              "  <style>\n",
              "    .colab-df-container {\n",
              "      display:flex;\n",
              "      flex-wrap:wrap;\n",
              "      gap: 12px;\n",
              "    }\n",
              "\n",
              "    .colab-df-convert {\n",
              "      background-color: #E8F0FE;\n",
              "      border: none;\n",
              "      border-radius: 50%;\n",
              "      cursor: pointer;\n",
              "      display: none;\n",
              "      fill: #1967D2;\n",
              "      height: 32px;\n",
              "      padding: 0 0 0 0;\n",
              "      width: 32px;\n",
              "    }\n",
              "\n",
              "    .colab-df-convert:hover {\n",
              "      background-color: #E2EBFA;\n",
              "      box-shadow: 0px 1px 2px rgba(60, 64, 67, 0.3), 0px 1px 3px 1px rgba(60, 64, 67, 0.15);\n",
              "      fill: #174EA6;\n",
              "    }\n",
              "\n",
              "    [theme=dark] .colab-df-convert {\n",
              "      background-color: #3B4455;\n",
              "      fill: #D2E3FC;\n",
              "    }\n",
              "\n",
              "    [theme=dark] .colab-df-convert:hover {\n",
              "      background-color: #434B5C;\n",
              "      box-shadow: 0px 1px 3px 1px rgba(0, 0, 0, 0.15);\n",
              "      filter: drop-shadow(0px 1px 2px rgba(0, 0, 0, 0.3));\n",
              "      fill: #FFFFFF;\n",
              "    }\n",
              "  </style>\n",
              "\n",
              "      <script>\n",
              "        const buttonEl =\n",
              "          document.querySelector('#df-97860a1a-62d0-43ee-8f32-3b2d4c15ca82 button.colab-df-convert');\n",
              "        buttonEl.style.display =\n",
              "          google.colab.kernel.accessAllowed ? 'block' : 'none';\n",
              "\n",
              "        async function convertToInteractive(key) {\n",
              "          const element = document.querySelector('#df-97860a1a-62d0-43ee-8f32-3b2d4c15ca82');\n",
              "          const dataTable =\n",
              "            await google.colab.kernel.invokeFunction('convertToInteractive',\n",
              "                                                     [key], {});\n",
              "          if (!dataTable) return;\n",
              "\n",
              "          const docLinkHtml = 'Like what you see? Visit the ' +\n",
              "            '<a target=\"_blank\" href=https://colab.research.google.com/notebooks/data_table.ipynb>data table notebook</a>'\n",
              "            + ' to learn more about interactive tables.';\n",
              "          element.innerHTML = '';\n",
              "          dataTable['output_type'] = 'display_data';\n",
              "          await google.colab.output.renderOutput(dataTable, element);\n",
              "          const docLink = document.createElement('div');\n",
              "          docLink.innerHTML = docLinkHtml;\n",
              "          element.appendChild(docLink);\n",
              "        }\n",
              "      </script>\n",
              "    </div>\n",
              "  </div>\n",
              "  "
            ],
            "text/plain": [
              "           SalePrice    YearBuilt    Size(sqf)        Floor  \\\n",
              "count    4124.000000  4124.000000  4124.000000  4124.000000   \n",
              "mean   222177.477207  2002.977934   959.958778    11.994665   \n",
              "std    106325.535526     8.765838   384.548456     7.581330   \n",
              "min     34070.000000  1978.000000   135.000000     1.000000   \n",
              "25%    144752.000000  1993.000000   644.000000     6.000000   \n",
              "50%    209588.000000  2006.000000   910.000000    11.000000   \n",
              "75%    291570.000000  2007.000000  1160.000000    17.000000   \n",
              "max    585840.000000  2015.000000  2337.000000    43.000000   \n",
              "\n",
              "       N_Parkinglot(Ground)  N_Parkinglot(Basement)    N_manager  N_elevators  \\\n",
              "count           4124.000000             4124.000000  4124.000000  4124.000000   \n",
              "mean             192.789040              572.857662     6.313773    11.055771   \n",
              "std              215.455916              408.179957     3.224556     7.717030   \n",
              "min                0.000000                0.000000     1.000000     0.000000   \n",
              "25%               11.000000              184.000000     5.000000     5.000000   \n",
              "50%              100.000000              536.000000     6.000000    11.000000   \n",
              "75%              249.000000              798.000000     8.000000    16.000000   \n",
              "max              713.000000             1321.000000    14.000000    27.000000   \n",
              "\n",
              "       N_FacilitiesInApt  N_FacilitiesNearBy(Total)  N_SchoolNearBy(Total)  \n",
              "count        4124.000000                4124.000000            4124.000000  \n",
              "mean            5.824200                   9.860330              10.872696  \n",
              "std             2.344331                   3.444848               4.427445  \n",
              "min             1.000000                   0.000000               0.000000  \n",
              "25%             4.000000                   8.000000               7.000000  \n",
              "50%             5.000000                   9.000000              10.000000  \n",
              "75%             7.000000                  13.000000              15.000000  \n",
              "max            10.000000                  16.000000              17.000000  "
            ]
          },
          "execution_count": 2,
          "metadata": {},
          "output_type": "execute_result"
        }
      ],
      "source": [
        "df_train.describe()"
      ]
    },
    {
      "cell_type": "code",
      "execution_count": 3,
      "metadata": {
        "colab": {
          "base_uri": "https://localhost:8080/"
        },
        "id": "KQz-fFk5pwKa",
        "outputId": "e6557196-8b3e-48cb-fe7b-42ccb260bf34"
      },
      "outputs": [
        {
          "data": {
            "text/plain": [
              "149274    38\n",
              "75920     38\n",
              "176991    38\n",
              "265486    36\n",
              "230088    35\n",
              "          ..\n",
              "227876     1\n",
              "194247     1\n",
              "328318     1\n",
              "76106      1\n",
              "557522     1\n",
              "Name: SalePrice, Length: 841, dtype: int64"
            ]
          },
          "execution_count": 3,
          "metadata": {},
          "output_type": "execute_result"
        }
      ],
      "source": [
        "df_train[\"SalePrice\"].value_counts()"
      ]
    },
    {
      "cell_type": "code",
      "execution_count": 4,
      "metadata": {
        "colab": {
          "base_uri": "https://localhost:8080/",
          "height": 491
        },
        "id": "TPGGnUoHpwKa",
        "outputId": "9a2560c1-ad03-46b3-9cf0-60c3326996e0"
      },
      "outputs": [
        {
          "data": {
            "image/png": "[encoded data removed]",
            "text/plain": [
              "<Figure size 576x432 with 2 Axes>"
            ]
          },
          "metadata": {
            "needs_background": "light"
          },
          "output_type": "display_data"
        }
      ],
      "source": [
        "import seaborn as sns\n",
        "import matplotlib.pyplot as plt\n",
        "\n",
        "plt.figure(figsize=(8, 6))\n",
        "\n",
        "corr = df_train.corr()\n",
        "sns.heatmap(corr, linewidth=.5, cmap=sns.color_palette('coolwarm', as_cmap=True))\n",
        "\n",
        "plt.show()"
      ]
    },
    {
      "cell_type": "markdown",
      "metadata": {
        "id": "UI_mzwuRpwKb"
      },
      "source": [
        "# Mapowanie kolumn obiektowych na One Hot"
      ]
    },
    {
      "cell_type": "markdown",
      "metadata": {
        "id": "_odyK-STpwKc"
      },
      "source": [
        "## Kategoryzacja outputu\n",
        "\n",
        " > < 100 000 - Cheap - 0\n",
        "\n",
        " > 100 000 < x < 350 000 - Average - 1\n",
        " \n",
        " > 350 000 - Expensive - 2"
      ]
    },
    {
      "cell_type": "code",
      "execution_count": 5,
      "metadata": {
        "id": "J8iGzJcApwKc"
      },
      "outputs": [],
      "source": [
        "bins = [0, 100_000, 350_000, np.inf]\n",
        "categories = [0, 1, 2]\n",
        "\n",
        "df_train['SalePrice'] = pd.cut(df_train['SalePrice'], bins, labels=categories)"
      ]
    },
    {
      "cell_type": "code",
      "execution_count": 6,
      "metadata": {
        "colab": {
          "base_uri": "https://localhost:8080/"
        },
        "id": "lwyV-y6UpwKc",
        "outputId": "fa1c1ed3-04bc-4390-ee05-5f91cf2034ad"
      },
      "outputs": [
        {
          "data": {
            "text/plain": [
              "1    2992\n",
              "2     570\n",
              "0     562\n",
              "Name: SalePrice, dtype: int64"
            ]
          },
          "execution_count": 6,
          "metadata": {},
          "output_type": "execute_result"
        }
      ],
      "source": [
        "df_train['SalePrice'].value_counts()"
      ]
    },
    {
      "cell_type": "markdown",
      "metadata": {
        "id": "BK70rg8CpwKc"
      },
      "source": [
        "## Mapowanie innych kolumn"
      ]
    },
    {
      "cell_type": "code",
      "execution_count": 7,
      "metadata": {
        "id": "hTEpj36ypwKd"
      },
      "outputs": [],
      "source": [
        "columns_for_oneHot = []\n",
        "\n",
        "for column, type in zip(df_train.columns, df_train.dtypes):\n",
        "    if type == 'object':\n",
        "        columns_for_oneHot.append(column)\n",
        "\n",
        "df_train = pd.get_dummies(df_train, columns=columns_for_oneHot)\n",
        "df_test = pd.get_dummies(df_test, columns=columns_for_oneHot)\n",
        "        "
      ]
    },
    {
      "cell_type": "markdown",
      "metadata": {
        "id": "49M2vpvnpwKd"
      },
      "source": [
        "### Upewnienie sie, że żadna kolumna ze zbioru walidacyjnego nie została pominięta"
      ]
    },
    {
      "cell_type": "code",
      "execution_count": 8,
      "metadata": {
        "id": "OvauEeVnpwKd"
      },
      "outputs": [],
      "source": [
        "missing_cols = set( df_train.columns ) - set( df_test.columns )\n",
        "# Add a missing column in test set with default value equal to 0\n",
        "for c in missing_cols:\n",
        "    if c != 'SalePrice':\n",
        "        df_test[c] = 0"
      ]
    },
    {
      "cell_type": "code",
      "execution_count": 9,
      "metadata": {
        "colab": {
          "base_uri": "https://localhost:8080/",
          "height": 317
        },
        "id": "CLMVX11NpwKd",
        "outputId": "796263f4-d442-4e78-e647-0bfc97c8c80f"
      },
      "outputs": [
        {
          "data": {
            "text/html": [
              "\n",
              "  <div id=\"df-a4bf87f7-2cd6-4792-95b5-6fb13e77ea49\">\n",
              "    <div class=\"colab-df-container\">\n",
              "      <div>\n",
              "<style scoped>\n",
              "    .dataframe tbody tr th:only-of-type {\n",
              "        vertical-align: middle;\n",
              "    }\n",
              "\n",
              "    .dataframe tbody tr th {\n",
              "        vertical-align: top;\n",
              "    }\n",
              "\n",
              "    .dataframe thead th {\n",
              "        text-align: right;\n",
              "    }\n",
              "</style>\n",
              "<table border=\"1\" class=\"dataframe\">\n",
              "  <thead>\n",
              "    <tr style=\"text-align: right;\">\n",
              "      <th></th>\n",
              "      <th>YearBuilt</th>\n",
              "      <th>Size(sqf)</th>\n",
              "      <th>Floor</th>\n",
              "      <th>N_Parkinglot(Ground)</th>\n",
              "      <th>N_Parkinglot(Basement)</th>\n",
              "      <th>N_manager</th>\n",
              "      <th>N_elevators</th>\n",
              "      <th>N_FacilitiesInApt</th>\n",
              "      <th>N_FacilitiesNearBy(Total)</th>\n",
              "      <th>N_SchoolNearBy(Total)</th>\n",
              "      <th>...</th>\n",
              "      <th>TimeToSubway_5min~10min</th>\n",
              "      <th>TimeToSubway_no_bus_stop_nearby</th>\n",
              "      <th>SubwayStation_Bangoge</th>\n",
              "      <th>SubwayStation_Banwoldang</th>\n",
              "      <th>SubwayStation_Chil-sung-market</th>\n",
              "      <th>SubwayStation_Daegu</th>\n",
              "      <th>SubwayStation_Kyungbuk_uni_hospital</th>\n",
              "      <th>SubwayStation_Myung-duk</th>\n",
              "      <th>SubwayStation_Sin-nam</th>\n",
              "      <th>SubwayStation_no_subway_nearby</th>\n",
              "    </tr>\n",
              "  </thead>\n",
              "  <tbody>\n",
              "    <tr>\n",
              "      <th>0</th>\n",
              "      <td>1993</td>\n",
              "      <td>914</td>\n",
              "      <td>10</td>\n",
              "      <td>523.0</td>\n",
              "      <td>536.0</td>\n",
              "      <td>8.0</td>\n",
              "      <td>20.0</td>\n",
              "      <td>4</td>\n",
              "      <td>14.0</td>\n",
              "      <td>17.0</td>\n",
              "      <td>...</td>\n",
              "      <td>0</td>\n",
              "      <td>0</td>\n",
              "      <td>0</td>\n",
              "      <td>0</td>\n",
              "      <td>0</td>\n",
              "      <td>0</td>\n",
              "      <td>0</td>\n",
              "      <td>1</td>\n",
              "      <td>0</td>\n",
              "      <td>0</td>\n",
              "    </tr>\n",
              "    <tr>\n",
              "      <th>1</th>\n",
              "      <td>2014</td>\n",
              "      <td>907</td>\n",
              "      <td>16</td>\n",
              "      <td>90.0</td>\n",
              "      <td>1174.0</td>\n",
              "      <td>7.0</td>\n",
              "      <td>20.0</td>\n",
              "      <td>9</td>\n",
              "      <td>14.0</td>\n",
              "      <td>17.0</td>\n",
              "      <td>...</td>\n",
              "      <td>0</td>\n",
              "      <td>0</td>\n",
              "      <td>0</td>\n",
              "      <td>0</td>\n",
              "      <td>0</td>\n",
              "      <td>0</td>\n",
              "      <td>0</td>\n",
              "      <td>1</td>\n",
              "      <td>0</td>\n",
              "      <td>0</td>\n",
              "    </tr>\n",
              "    <tr>\n",
              "      <th>2</th>\n",
              "      <td>2007</td>\n",
              "      <td>1629</td>\n",
              "      <td>7</td>\n",
              "      <td>7.0</td>\n",
              "      <td>605.0</td>\n",
              "      <td>5.0</td>\n",
              "      <td>5.0</td>\n",
              "      <td>5</td>\n",
              "      <td>9.0</td>\n",
              "      <td>5.0</td>\n",
              "      <td>...</td>\n",
              "      <td>0</td>\n",
              "      <td>0</td>\n",
              "      <td>0</td>\n",
              "      <td>1</td>\n",
              "      <td>0</td>\n",
              "      <td>0</td>\n",
              "      <td>0</td>\n",
              "      <td>0</td>\n",
              "      <td>0</td>\n",
              "      <td>0</td>\n",
              "    </tr>\n",
              "    <tr>\n",
              "      <th>3</th>\n",
              "      <td>2005</td>\n",
              "      <td>743</td>\n",
              "      <td>21</td>\n",
              "      <td>67.0</td>\n",
              "      <td>798.0</td>\n",
              "      <td>6.0</td>\n",
              "      <td>0.0</td>\n",
              "      <td>7</td>\n",
              "      <td>13.0</td>\n",
              "      <td>15.0</td>\n",
              "      <td>...</td>\n",
              "      <td>1</td>\n",
              "      <td>0</td>\n",
              "      <td>1</td>\n",
              "      <td>0</td>\n",
              "      <td>0</td>\n",
              "      <td>0</td>\n",
              "      <td>0</td>\n",
              "      <td>0</td>\n",
              "      <td>0</td>\n",
              "      <td>0</td>\n",
              "    </tr>\n",
              "    <tr>\n",
              "      <th>4</th>\n",
              "      <td>2006</td>\n",
              "      <td>903</td>\n",
              "      <td>7</td>\n",
              "      <td>123.0</td>\n",
              "      <td>181.0</td>\n",
              "      <td>3.0</td>\n",
              "      <td>11.0</td>\n",
              "      <td>4</td>\n",
              "      <td>8.0</td>\n",
              "      <td>11.0</td>\n",
              "      <td>...</td>\n",
              "      <td>0</td>\n",
              "      <td>0</td>\n",
              "      <td>0</td>\n",
              "      <td>0</td>\n",
              "      <td>0</td>\n",
              "      <td>0</td>\n",
              "      <td>0</td>\n",
              "      <td>1</td>\n",
              "      <td>0</td>\n",
              "      <td>0</td>\n",
              "    </tr>\n",
              "  </tbody>\n",
              "</table>\n",
              "<p>5 rows × 33 columns</p>\n",
              "</div>\n",
              "      <button class=\"colab-df-convert\" onclick=\"convertToInteractive('df-a4bf87f7-2cd6-4792-95b5-6fb13e77ea49')\"\n",
              "              title=\"Convert this dataframe to an interactive table.\"\n",
              "              style=\"display:none;\">\n",
              "        \n",
              "  <svg xmlns=\"http://www.w3.org/2000/svg\" height=\"24px\"viewBox=\"0 0 24 24\"\n",
              "       width=\"24px\">\n",
              "    <path d=\"M0 0h24v24H0V0z\" fill=\"none\"/>\n",
              "    <path d=\"M18.56 5.44l.94 2.06.94-2.06 2.06-.94-2.06-.94-.94-2.06-.94 2.06-2.06.94zm-11 1L8.5 8.5l.94-2.06 2.06-.94-2.06-.94L8.5 2.5l-.94 2.06-2.06.94zm10 10l.94 2.06.94-2.06 2.06-.94-2.06-.94-.94-2.06-.94 2.06-2.06.94z\"/><path d=\"M17.41 7.96l-1.37-1.37c-.4-.4-.92-.59-1.43-.59-.52 0-1.04.2-1.43.59L10.3 9.45l-7.72 7.72c-.78.78-.78 2.05 0 2.83L4 21.41c.39.39.9.59 1.41.59.51 0 1.02-.2 1.41-.59l7.78-7.78 2.81-2.81c.8-.78.8-2.07 0-2.86zM5.41 20L4 18.59l7.72-7.72 1.47 1.35L5.41 20z\"/>\n",
              "  </svg>\n",
              "      </button>\n",
              "      \n",
              "  <style>\n",
              "    .colab-df-container {\n",
              "      display:flex;\n",
              "      flex-wrap:wrap;\n",
              "      gap: 12px;\n",
              "    }\n",
              "\n",
              "    .colab-df-convert {\n",
              "      background-color: #E8F0FE;\n",
              "      border: none;\n",
              "      border-radius: 50%;\n",
              "      cursor: pointer;\n",
              "      display: none;\n",
              "      fill: #1967D2;\n",
              "      height: 32px;\n",
              "      padding: 0 0 0 0;\n",
              "      width: 32px;\n",
              "    }\n",
              "\n",
              "    .colab-df-convert:hover {\n",
              "      background-color: #E2EBFA;\n",
              "      box-shadow: 0px 1px 2px rgba(60, 64, 67, 0.3), 0px 1px 3px 1px rgba(60, 64, 67, 0.15);\n",
              "      fill: #174EA6;\n",
              "    }\n",
              "\n",
              "    [theme=dark] .colab-df-convert {\n",
              "      background-color: #3B4455;\n",
              "      fill: #D2E3FC;\n",
              "    }\n",
              "\n",
              "    [theme=dark] .colab-df-convert:hover {\n",
              "      background-color: #434B5C;\n",
              "      box-shadow: 0px 1px 3px 1px rgba(0, 0, 0, 0.15);\n",
              "      filter: drop-shadow(0px 1px 2px rgba(0, 0, 0, 0.3));\n",
              "      fill: #FFFFFF;\n",
              "    }\n",
              "  </style>\n",
              "\n",
              "      <script>\n",
              "        const buttonEl =\n",
              "          document.querySelector('#df-a4bf87f7-2cd6-4792-95b5-6fb13e77ea49 button.colab-df-convert');\n",
              "        buttonEl.style.display =\n",
              "          google.colab.kernel.accessAllowed ? 'block' : 'none';\n",
              "\n",
              "        async function convertToInteractive(key) {\n",
              "          const element = document.querySelector('#df-a4bf87f7-2cd6-4792-95b5-6fb13e77ea49');\n",
              "          const dataTable =\n",
              "            await google.colab.kernel.invokeFunction('convertToInteractive',\n",
              "                                                     [key], {});\n",
              "          if (!dataTable) return;\n",
              "\n",
              "          const docLinkHtml = 'Like what you see? Visit the ' +\n",
              "            '<a target=\"_blank\" href=https://colab.research.google.com/notebooks/data_table.ipynb>data table notebook</a>'\n",
              "            + ' to learn more about interactive tables.';\n",
              "          element.innerHTML = '';\n",
              "          dataTable['output_type'] = 'display_data';\n",
              "          await google.colab.output.renderOutput(dataTable, element);\n",
              "          const docLink = document.createElement('div');\n",
              "          docLink.innerHTML = docLinkHtml;\n",
              "          element.appendChild(docLink);\n",
              "        }\n",
              "      </script>\n",
              "    </div>\n",
              "  </div>\n",
              "  "
            ],
            "text/plain": [
              "   YearBuilt  Size(sqf)  Floor  N_Parkinglot(Ground)  N_Parkinglot(Basement)  \\\n",
              "0       1993        914     10                 523.0                   536.0   \n",
              "1       2014        907     16                  90.0                  1174.0   \n",
              "2       2007       1629      7                   7.0                   605.0   \n",
              "3       2005        743     21                  67.0                   798.0   \n",
              "4       2006        903      7                 123.0                   181.0   \n",
              "\n",
              "   N_manager  N_elevators  N_FacilitiesInApt  N_FacilitiesNearBy(Total)  \\\n",
              "0        8.0         20.0                  4                       14.0   \n",
              "1        7.0         20.0                  9                       14.0   \n",
              "2        5.0          5.0                  5                        9.0   \n",
              "3        6.0          0.0                  7                       13.0   \n",
              "4        3.0         11.0                  4                        8.0   \n",
              "\n",
              "   N_SchoolNearBy(Total)  ...  TimeToSubway_5min~10min  \\\n",
              "0                   17.0  ...                        0   \n",
              "1                   17.0  ...                        0   \n",
              "2                    5.0  ...                        0   \n",
              "3                   15.0  ...                        1   \n",
              "4                   11.0  ...                        0   \n",
              "\n",
              "   TimeToSubway_no_bus_stop_nearby  SubwayStation_Bangoge  \\\n",
              "0                                0                      0   \n",
              "1                                0                      0   \n",
              "2                                0                      0   \n",
              "3                                0                      1   \n",
              "4                                0                      0   \n",
              "\n",
              "   SubwayStation_Banwoldang  SubwayStation_Chil-sung-market  \\\n",
              "0                         0                               0   \n",
              "1                         0                               0   \n",
              "2                         1                               0   \n",
              "3                         0                               0   \n",
              "4                         0                               0   \n",
              "\n",
              "   SubwayStation_Daegu  SubwayStation_Kyungbuk_uni_hospital  \\\n",
              "0                    0                                    0   \n",
              "1                    0                                    0   \n",
              "2                    0                                    0   \n",
              "3                    0                                    0   \n",
              "4                    0                                    0   \n",
              "\n",
              "   SubwayStation_Myung-duk  SubwayStation_Sin-nam  \\\n",
              "0                        1                      0   \n",
              "1                        1                      0   \n",
              "2                        0                      0   \n",
              "3                        0                      0   \n",
              "4                        1                      0   \n",
              "\n",
              "   SubwayStation_no_subway_nearby  \n",
              "0                               0  \n",
              "1                               0  \n",
              "2                               0  \n",
              "3                               0  \n",
              "4                               0  \n",
              "\n",
              "[5 rows x 33 columns]"
            ]
          },
          "execution_count": 9,
          "metadata": {},
          "output_type": "execute_result"
        }
      ],
      "source": [
        "df_test.head()"
      ]
    },
    {
      "cell_type": "markdown",
      "metadata": {
        "id": "dHhWou5zpwKe"
      },
      "source": [
        "## Siec"
      ]
    },
    {
      "cell_type": "markdown",
      "metadata": {
        "id": "PDa5BCOspwKe"
      },
      "source": [
        "### Wstepne przetwarzanie danych"
      ]
    },
    {
      "cell_type": "code",
      "execution_count": 10,
      "metadata": {
        "id": "8ZdPnzhWpwKe"
      },
      "outputs": [],
      "source": [
        "train = df_train.sample(frac=0.8,random_state=200) #random state is a seed value\n",
        "test = df_train.drop(train.index)"
      ]
    },
    {
      "cell_type": "markdown",
      "metadata": {
        "id": "tTPPN1FgpwKe"
      },
      "source": [
        "### Model"
      ]
    },
    {
      "cell_type": "code",
      "execution_count": 11,
      "metadata": {
        "id": "8BrPc0vjpwKe"
      },
      "outputs": [],
      "source": [
        "import torch.utils.data as data\n",
        "import torch.optim as optim\n",
        "import torch"
      ]
    },
    {
      "cell_type": "code",
      "execution_count": 12,
      "metadata": {
        "id": "W743aLyPpwKf"
      },
      "outputs": [],
      "source": [
        "class SimpleClassifier(nn.Module):\n",
        "\n",
        "    def __init__(self, num_inputs, num_hidden1, num_hidden2, num_hidden3, num_outputs):\n",
        "        super().__init__()\n",
        "        # Initialize the modules we need to build the network\n",
        "        self.lin1 = nn.Linear(num_inputs, num_hidden1)\n",
        "        self.d1 = nn.Dropout(0.3)\n",
        "        self.bn1 = nn.BatchNorm1d(num_hidden1)\n",
        "        self.act1 = nn.ReLU()\n",
        "        \n",
        "        self.lin2 = nn.Linear(num_hidden1, num_hidden2)\n",
        "        self.d2 = nn.Dropout(0.3)\n",
        "        self.bn2 = nn.BatchNorm1d(num_hidden2)\n",
        "        self.act2 = nn.ReLU()\n",
        "\n",
        "        self.lin3 = nn.Linear(num_hidden2, num_hidden3)\n",
        "        self.d3 = nn.Dropout(0.3)\n",
        "        self.bn3 = nn.BatchNorm1d(num_hidden3)\n",
        "        self.act3 = nn.ReLU()\n",
        "        \n",
        "        self.lin4 = nn.Linear(num_hidden3, num_outputs)\n",
        "\n",
        "    def forward(self, x):\n",
        "        # Perform the calculation of the model to determine the prediction\n",
        "        x = self.lin1(x)\n",
        "        x = self.bn1(x)\n",
        "        x = self.act1(x)\n",
        "        x = self.d1(x)\n",
        "        \n",
        "        x = self.lin2(x)\n",
        "        x = self.bn2(x)\n",
        "        x = self.act2(x)\n",
        "        x = self.d2(x)\n",
        "\n",
        "        x = self.lin3(x)\n",
        "        x = self.bn3(x)\n",
        "        x = self.act3(x)\n",
        "        x = self.d3(x)\n",
        "        \n",
        "        x = self.lin4(x)\n",
        "        \n",
        "        return x"
      ]
    },
    {
      "cell_type": "markdown",
      "metadata": {
        "id": "DPschMSZpwKf"
      },
      "source": [
        "## Podzielenie zbiorów"
      ]
    },
    {
      "cell_type": "code",
      "execution_count": 13,
      "metadata": {
        "id": "a50lbmUwpwKf"
      },
      "outputs": [],
      "source": [
        "X_train = train.drop(columns = ['SalePrice'])\n",
        "Y_train = train['SalePrice']\n",
        "\n",
        "X_test = test.drop(columns = ['SalePrice'])\n",
        "Y_test = test['SalePrice']"
      ]
    },
    {
      "cell_type": "code",
      "execution_count": 14,
      "metadata": {
        "id": "oAEnVBbnpwKg"
      },
      "outputs": [],
      "source": [
        "train_dataset = data.TensorDataset(torch.from_numpy(np.array(X_train)), torch.tensor([[int(i == x) for i in range(3)] for x in Y_train]))\n",
        "test_dataset = data.TensorDataset(torch.from_numpy(np.array(X_test)), torch.tensor([[int(i == x) for i in range(3)] for x in Y_test]))"
      ]
    },
    {
      "cell_type": "code",
      "execution_count": 15,
      "metadata": {
        "id": "o2HM29bLpwKg"
      },
      "outputs": [],
      "source": [
        "train_data_loader = data.DataLoader(train_dataset, batch_size=256, shuffle=True)"
      ]
    },
    {
      "cell_type": "markdown",
      "metadata": {
        "id": "vclmgUrRpwKg"
      },
      "source": [
        "### XGBoost dla uzyskania baseline'u"
      ]
    },
    {
      "cell_type": "code",
      "execution_count": 16,
      "metadata": {
        "id": "LRvi_4p-pwKg"
      },
      "outputs": [],
      "source": [
        "import xgboost as xgb\n",
        "from sklearn.model_selection import train_test_split\n",
        "\n",
        "X_train_xgb, X_test_xgb, Y_train_xgb, Y_test_xgb = train_test_split(df_train.drop(columns = ['SalePrice']), df_train['SalePrice'], random_state=42)\n"
      ]
    },
    {
      "cell_type": "code",
      "execution_count": null,
      "metadata": {
        "id": "Zz6R10WApwKg"
      },
      "outputs": [],
      "source": [
        "clf_xgb = xgb.XGBClassifier(learning_rate = 0.08, max_depth = 5, n_estimators = 100, missing=1, seed=42)\n",
        "clf_xgb.fit(X_train_xgb, Y_train_xgb, verbose=True, early_stopping_rounds=100, eval_set=[(X_test_xgb, Y_test_xgb)])\n"
      ]
    },
    {
      "cell_type": "code",
      "execution_count": 18,
      "metadata": {
        "colab": {
          "base_uri": "https://localhost:8080/"
        },
        "id": "AJ9FKxi2pwKh",
        "outputId": "775c88f5-ab82-4b75-d583-9349bf4b413d"
      },
      "outputs": [
        {
          "name": "stdout",
          "output_type": "stream",
          "text": [
            "Accuracy : 0.8612997090203686\n"
          ]
        }
      ],
      "source": [
        "result_train = clf_xgb.score(X_test_xgb, Y_test_xgb)\n",
        "print(\"Accuracy : {}\".format(result_train))"
      ]
    },
    {
      "cell_type": "markdown",
      "metadata": {
        "id": "kxvnsrRFpwKh"
      },
      "source": [
        "### Będziemy się starać uzyskać sieć neuronową przez pytorcha o accuracy zbliżonej do tej z XGBoosta"
      ]
    },
    {
      "cell_type": "markdown",
      "metadata": {
        "id": "t2MuXDpZpwKh"
      },
      "source": [
        "## Trenowanie"
      ]
    },
    {
      "cell_type": "code",
      "execution_count": 19,
      "metadata": {
        "id": "FBY3yK3xpwKh"
      },
      "outputs": [],
      "source": [
        "model = SimpleClassifier(X_train.columns.size, 1000, 750, 500, 3).to(device)\n",
        "MSELoss = nn.MSELoss()\n",
        "optimizer = optim.Adam(model.parameters(), lr=0.005)"
      ]
    },
    {
      "cell_type": "code",
      "execution_count": 20,
      "metadata": {
        "colab": {
          "base_uri": "https://localhost:8080/"
        },
        "id": "mXqDmEg5pwKh",
        "outputId": "39d5875b-2204-4887-acca-339e6eb27880"
      },
      "outputs": [
        {
          "name": "stdout",
          "output_type": "stream",
          "text": [
            "0 tensor(0.0004, device='cuda:0', grad_fn=<DivBackward0>)\n",
            "1 tensor(0.0003, device='cuda:0', grad_fn=<DivBackward0>)\n",
            "2 tensor(0.0003, device='cuda:0', grad_fn=<DivBackward0>)\n",
            "3 tensor(0.0003, device='cuda:0', grad_fn=<DivBackward0>)\n",
            "4 tensor(0.0003, device='cuda:0', grad_fn=<DivBackward0>)\n",
            "5 tensor(0.0003, device='cuda:0', grad_fn=<DivBackward0>)\n",
            "6 tensor(0.0003, device='cuda:0', grad_fn=<DivBackward0>)\n",
            "7 tensor(0.0003, device='cuda:0', grad_fn=<DivBackward0>)\n",
            "8 tensor(0.0003, device='cuda:0', grad_fn=<DivBackward0>)\n",
            "9 tensor(0.0003, device='cuda:0', grad_fn=<DivBackward0>)\n",
            "10 tensor(0.0003, device='cuda:0', grad_fn=<DivBackward0>)\n",
            "11 tensor(0.0003, device='cuda:0', grad_fn=<DivBackward0>)\n",
            "12 tensor(0.0003, device='cuda:0', grad_fn=<DivBackward0>)\n",
            "13 tensor(0.0003, device='cuda:0', grad_fn=<DivBackward0>)\n",
            "14 tensor(0.0003, device='cuda:0', grad_fn=<DivBackward0>)\n",
            "15 tensor(0.0003, device='cuda:0', grad_fn=<DivBackward0>)\n",
            "16 tensor(0.0003, device='cuda:0', grad_fn=<DivBackward0>)\n",
            "17 tensor(0.0003, device='cuda:0', grad_fn=<DivBackward0>)\n",
            "18 tensor(0.0003, device='cuda:0', grad_fn=<DivBackward0>)\n",
            "19 tensor(0.0003, device='cuda:0', grad_fn=<DivBackward0>)\n",
            "20 tensor(0.0003, device='cuda:0', grad_fn=<DivBackward0>)\n",
            "21 tensor(0.0003, device='cuda:0', grad_fn=<DivBackward0>)\n",
            "22 tensor(0.0003, device='cuda:0', grad_fn=<DivBackward0>)\n",
            "23 tensor(0.0003, device='cuda:0', grad_fn=<DivBackward0>)\n",
            "24 tensor(0.0003, device='cuda:0', grad_fn=<DivBackward0>)\n",
            "25 tensor(0.0003, device='cuda:0', grad_fn=<DivBackward0>)\n",
            "26 tensor(0.0003, device='cuda:0', grad_fn=<DivBackward0>)\n",
            "27 tensor(0.0003, device='cuda:0', grad_fn=<DivBackward0>)\n",
            "28 tensor(0.0003, device='cuda:0', grad_fn=<DivBackward0>)\n",
            "29 tensor(0.0003, device='cuda:0', grad_fn=<DivBackward0>)\n",
            "30 tensor(0.0003, device='cuda:0', grad_fn=<DivBackward0>)\n",
            "31 tensor(0.0003, device='cuda:0', grad_fn=<DivBackward0>)\n",
            "32 tensor(0.0003, device='cuda:0', grad_fn=<DivBackward0>)\n",
            "33 tensor(0.0003, device='cuda:0', grad_fn=<DivBackward0>)\n",
            "34 tensor(0.0003, device='cuda:0', grad_fn=<DivBackward0>)\n",
            "35 tensor(0.0003, device='cuda:0', grad_fn=<DivBackward0>)\n",
            "36 tensor(0.0003, device='cuda:0', grad_fn=<DivBackward0>)\n",
            "37 tensor(0.0003, device='cuda:0', grad_fn=<DivBackward0>)\n",
            "38 tensor(0.0003, device='cuda:0', grad_fn=<DivBackward0>)\n",
            "39 tensor(0.0003, device='cuda:0', grad_fn=<DivBackward0>)\n",
            "40 tensor(0.0003, device='cuda:0', grad_fn=<DivBackward0>)\n",
            "41 tensor(0.0002, device='cuda:0', grad_fn=<DivBackward0>)\n",
            "42 tensor(0.0003, device='cuda:0', grad_fn=<DivBackward0>)\n",
            "43 tensor(0.0003, device='cuda:0', grad_fn=<DivBackward0>)\n",
            "44 tensor(0.0003, device='cuda:0', grad_fn=<DivBackward0>)\n",
            "45 tensor(0.0003, device='cuda:0', grad_fn=<DivBackward0>)\n",
            "46 tensor(0.0003, device='cuda:0', grad_fn=<DivBackward0>)\n",
            "47 tensor(0.0003, device='cuda:0', grad_fn=<DivBackward0>)\n",
            "48 tensor(0.0003, device='cuda:0', grad_fn=<DivBackward0>)\n",
            "49 tensor(0.0003, device='cuda:0', grad_fn=<DivBackward0>)\n",
            "50 tensor(0.0003, device='cuda:0', grad_fn=<DivBackward0>)\n",
            "51 tensor(0.0003, device='cuda:0', grad_fn=<DivBackward0>)\n",
            "52 tensor(0.0002, device='cuda:0', grad_fn=<DivBackward0>)\n",
            "53 tensor(0.0003, device='cuda:0', grad_fn=<DivBackward0>)\n",
            "54 tensor(0.0003, device='cuda:0', grad_fn=<DivBackward0>)\n",
            "55 tensor(0.0003, device='cuda:0', grad_fn=<DivBackward0>)\n",
            "56 tensor(0.0003, device='cuda:0', grad_fn=<DivBackward0>)\n",
            "57 tensor(0.0003, device='cuda:0', grad_fn=<DivBackward0>)\n",
            "58 tensor(0.0003, device='cuda:0', grad_fn=<DivBackward0>)\n",
            "59 tensor(0.0003, device='cuda:0', grad_fn=<DivBackward0>)\n",
            "60 tensor(0.0003, device='cuda:0', grad_fn=<DivBackward0>)\n",
            "61 tensor(0.0003, device='cuda:0', grad_fn=<DivBackward0>)\n",
            "62 tensor(0.0003, device='cuda:0', grad_fn=<DivBackward0>)\n",
            "63 tensor(0.0003, device='cuda:0', grad_fn=<DivBackward0>)\n",
            "64 tensor(0.0002, device='cuda:0', grad_fn=<DivBackward0>)\n",
            "65 tensor(0.0002, device='cuda:0', grad_fn=<DivBackward0>)\n",
            "66 tensor(0.0002, device='cuda:0', grad_fn=<DivBackward0>)\n",
            "67 tensor(0.0003, device='cuda:0', grad_fn=<DivBackward0>)\n",
            "68 tensor(0.0003, device='cuda:0', grad_fn=<DivBackward0>)\n",
            "69 tensor(0.0002, device='cuda:0', grad_fn=<DivBackward0>)\n",
            "70 tensor(0.0003, device='cuda:0', grad_fn=<DivBackward0>)\n",
            "71 tensor(0.0003, device='cuda:0', grad_fn=<DivBackward0>)\n",
            "72 tensor(0.0003, device='cuda:0', grad_fn=<DivBackward0>)\n",
            "73 tensor(0.0003, device='cuda:0', grad_fn=<DivBackward0>)\n",
            "74 tensor(0.0002, device='cuda:0', grad_fn=<DivBackward0>)\n",
            "75 tensor(0.0003, device='cuda:0', grad_fn=<DivBackward0>)\n",
            "76 tensor(0.0002, device='cuda:0', grad_fn=<DivBackward0>)\n",
            "77 tensor(0.0003, device='cuda:0', grad_fn=<DivBackward0>)\n",
            "78 tensor(0.0003, device='cuda:0', grad_fn=<DivBackward0>)\n",
            "79 tensor(0.0003, device='cuda:0', grad_fn=<DivBackward0>)\n",
            "80 tensor(0.0002, device='cuda:0', grad_fn=<DivBackward0>)\n",
            "81 tensor(0.0002, device='cuda:0', grad_fn=<DivBackward0>)\n",
            "82 tensor(0.0002, device='cuda:0', grad_fn=<DivBackward0>)\n",
            "83 tensor(0.0002, device='cuda:0', grad_fn=<DivBackward0>)\n",
            "84 tensor(0.0002, device='cuda:0', grad_fn=<DivBackward0>)\n",
            "85 tensor(0.0002, device='cuda:0', grad_fn=<DivBackward0>)\n",
            "86 tensor(0.0002, device='cuda:0', grad_fn=<DivBackward0>)\n",
            "87 tensor(0.0002, device='cuda:0', grad_fn=<DivBackward0>)\n",
            "88 tensor(0.0002, device='cuda:0', grad_fn=<DivBackward0>)\n",
            "89 tensor(0.0002, device='cuda:0', grad_fn=<DivBackward0>)\n",
            "90 tensor(0.0002, device='cuda:0', grad_fn=<DivBackward0>)\n",
            "91 tensor(0.0002, device='cuda:0', grad_fn=<DivBackward0>)\n",
            "92 tensor(0.0002, device='cuda:0', grad_fn=<DivBackward0>)\n",
            "93 tensor(0.0002, device='cuda:0', grad_fn=<DivBackward0>)\n",
            "94 tensor(0.0002, device='cuda:0', grad_fn=<DivBackward0>)\n",
            "95 tensor(0.0002, device='cuda:0', grad_fn=<DivBackward0>)\n",
            "96 tensor(0.0003, device='cuda:0', grad_fn=<DivBackward0>)\n",
            "97 tensor(0.0002, device='cuda:0', grad_fn=<DivBackward0>)\n",
            "98 tensor(0.0002, device='cuda:0', grad_fn=<DivBackward0>)\n",
            "99 tensor(0.0002, device='cuda:0', grad_fn=<DivBackward0>)\n",
            "100 tensor(0.0002, device='cuda:0', grad_fn=<DivBackward0>)\n",
            "101 tensor(0.0002, device='cuda:0', grad_fn=<DivBackward0>)\n",
            "102 tensor(0.0003, device='cuda:0', grad_fn=<DivBackward0>)\n",
            "103 tensor(0.0003, device='cuda:0', grad_fn=<DivBackward0>)\n",
            "104 tensor(0.0003, device='cuda:0', grad_fn=<DivBackward0>)\n",
            "105 tensor(0.0002, device='cuda:0', grad_fn=<DivBackward0>)\n",
            "106 tensor(0.0002, device='cuda:0', grad_fn=<DivBackward0>)\n",
            "107 tensor(0.0002, device='cuda:0', grad_fn=<DivBackward0>)\n",
            "108 tensor(0.0002, device='cuda:0', grad_fn=<DivBackward0>)\n",
            "109 tensor(0.0002, device='cuda:0', grad_fn=<DivBackward0>)\n",
            "110 tensor(0.0002, device='cuda:0', grad_fn=<DivBackward0>)\n",
            "111 tensor(0.0002, device='cuda:0', grad_fn=<DivBackward0>)\n",
            "112 tensor(0.0002, device='cuda:0', grad_fn=<DivBackward0>)\n",
            "113 tensor(0.0002, device='cuda:0', grad_fn=<DivBackward0>)\n",
            "114 tensor(0.0002, device='cuda:0', grad_fn=<DivBackward0>)\n",
            "115 tensor(0.0002, device='cuda:0', grad_fn=<DivBackward0>)\n",
            "116 tensor(0.0002, device='cuda:0', grad_fn=<DivBackward0>)\n",
            "117 tensor(0.0002, device='cuda:0', grad_fn=<DivBackward0>)\n",
            "118 tensor(0.0002, device='cuda:0', grad_fn=<DivBackward0>)\n",
            "119 tensor(0.0002, device='cuda:0', grad_fn=<DivBackward0>)\n",
            "120 tensor(0.0002, device='cuda:0', grad_fn=<DivBackward0>)\n",
            "121 tensor(0.0002, device='cuda:0', grad_fn=<DivBackward0>)\n",
            "122 tensor(0.0002, device='cuda:0', grad_fn=<DivBackward0>)\n",
            "123 tensor(0.0002, device='cuda:0', grad_fn=<DivBackward0>)\n",
            "124 tensor(0.0002, device='cuda:0', grad_fn=<DivBackward0>)\n",
            "125 tensor(0.0002, device='cuda:0', grad_fn=<DivBackward0>)\n",
            "126 tensor(0.0002, device='cuda:0', grad_fn=<DivBackward0>)\n",
            "127 tensor(0.0002, device='cuda:0', grad_fn=<DivBackward0>)\n",
            "128 tensor(0.0002, device='cuda:0', grad_fn=<DivBackward0>)\n",
            "129 tensor(0.0002, device='cuda:0', grad_fn=<DivBackward0>)\n",
            "130 tensor(0.0002, device='cuda:0', grad_fn=<DivBackward0>)\n",
            "131 tensor(0.0002, device='cuda:0', grad_fn=<DivBackward0>)\n",
            "132 tensor(0.0002, device='cuda:0', grad_fn=<DivBackward0>)\n",
            "133 tensor(0.0002, device='cuda:0', grad_fn=<DivBackward0>)\n",
            "134 tensor(0.0002, device='cuda:0', grad_fn=<DivBackward0>)\n",
            "135 tensor(0.0002, device='cuda:0', grad_fn=<DivBackward0>)\n",
            "136 tensor(0.0002, device='cuda:0', grad_fn=<DivBackward0>)\n",
            "137 tensor(0.0002, device='cuda:0', grad_fn=<DivBackward0>)\n",
            "138 tensor(0.0002, device='cuda:0', grad_fn=<DivBackward0>)\n",
            "139 tensor(0.0002, device='cuda:0', grad_fn=<DivBackward0>)\n",
            "140 tensor(0.0003, device='cuda:0', grad_fn=<DivBackward0>)\n",
            "141 tensor(0.0002, device='cuda:0', grad_fn=<DivBackward0>)\n",
            "142 tensor(0.0002, device='cuda:0', grad_fn=<DivBackward0>)\n",
            "143 tensor(0.0002, device='cuda:0', grad_fn=<DivBackward0>)\n",
            "144 tensor(0.0002, device='cuda:0', grad_fn=<DivBackward0>)\n",
            "145 tensor(0.0002, device='cuda:0', grad_fn=<DivBackward0>)\n",
            "146 tensor(0.0002, device='cuda:0', grad_fn=<DivBackward0>)\n",
            "147 tensor(0.0002, device='cuda:0', grad_fn=<DivBackward0>)\n",
            "148 tensor(0.0002, device='cuda:0', grad_fn=<DivBackward0>)\n",
            "149 tensor(0.0002, device='cuda:0', grad_fn=<DivBackward0>)\n",
            "150 tensor(0.0002, device='cuda:0', grad_fn=<DivBackward0>)\n",
            "151 tensor(0.0002, device='cuda:0', grad_fn=<DivBackward0>)\n",
            "152 tensor(0.0002, device='cuda:0', grad_fn=<DivBackward0>)\n",
            "153 tensor(0.0002, device='cuda:0', grad_fn=<DivBackward0>)\n",
            "154 tensor(0.0002, device='cuda:0', grad_fn=<DivBackward0>)\n",
            "155 tensor(0.0002, device='cuda:0', grad_fn=<DivBackward0>)\n",
            "156 tensor(0.0002, device='cuda:0', grad_fn=<DivBackward0>)\n",
            "157 tensor(0.0002, device='cuda:0', grad_fn=<DivBackward0>)\n",
            "158 tensor(0.0002, device='cuda:0', grad_fn=<DivBackward0>)\n",
            "159 tensor(0.0002, device='cuda:0', grad_fn=<DivBackward0>)\n",
            "160 tensor(0.0002, device='cuda:0', grad_fn=<DivBackward0>)\n",
            "161 tensor(0.0002, device='cuda:0', grad_fn=<DivBackward0>)\n",
            "162 tensor(0.0003, device='cuda:0', grad_fn=<DivBackward0>)\n",
            "163 tensor(0.0002, device='cuda:0', grad_fn=<DivBackward0>)\n",
            "164 tensor(0.0002, device='cuda:0', grad_fn=<DivBackward0>)\n",
            "165 tensor(0.0002, device='cuda:0', grad_fn=<DivBackward0>)\n",
            "166 tensor(0.0002, device='cuda:0', grad_fn=<DivBackward0>)\n",
            "167 tensor(0.0002, device='cuda:0', grad_fn=<DivBackward0>)\n",
            "168 tensor(0.0002, device='cuda:0', grad_fn=<DivBackward0>)\n",
            "169 tensor(0.0002, device='cuda:0', grad_fn=<DivBackward0>)\n",
            "170 tensor(0.0002, device='cuda:0', grad_fn=<DivBackward0>)\n",
            "171 tensor(0.0002, device='cuda:0', grad_fn=<DivBackward0>)\n",
            "172 tensor(0.0002, device='cuda:0', grad_fn=<DivBackward0>)\n",
            "173 tensor(0.0002, device='cuda:0', grad_fn=<DivBackward0>)\n",
            "174 tensor(0.0002, device='cuda:0', grad_fn=<DivBackward0>)\n",
            "175 tensor(0.0002, device='cuda:0', grad_fn=<DivBackward0>)\n",
            "176 tensor(0.0002, device='cuda:0', grad_fn=<DivBackward0>)\n",
            "177 tensor(0.0002, device='cuda:0', grad_fn=<DivBackward0>)\n",
            "178 tensor(0.0002, device='cuda:0', grad_fn=<DivBackward0>)\n",
            "179 tensor(0.0002, device='cuda:0', grad_fn=<DivBackward0>)\n",
            "180 tensor(0.0002, device='cuda:0', grad_fn=<DivBackward0>)\n",
            "181 tensor(0.0002, device='cuda:0', grad_fn=<DivBackward0>)\n",
            "182 tensor(0.0002, device='cuda:0', grad_fn=<DivBackward0>)\n",
            "183 tensor(0.0002, device='cuda:0', grad_fn=<DivBackward0>)\n",
            "184 tensor(0.0002, device='cuda:0', grad_fn=<DivBackward0>)\n",
            "185 tensor(0.0002, device='cuda:0', grad_fn=<DivBackward0>)\n",
            "186 tensor(0.0002, device='cuda:0', grad_fn=<DivBackward0>)\n",
            "187 tensor(0.0002, device='cuda:0', grad_fn=<DivBackward0>)\n",
            "188 tensor(0.0002, device='cuda:0', grad_fn=<DivBackward0>)\n",
            "189 tensor(0.0002, device='cuda:0', grad_fn=<DivBackward0>)\n",
            "190 tensor(0.0002, device='cuda:0', grad_fn=<DivBackward0>)\n",
            "191 tensor(0.0002, device='cuda:0', grad_fn=<DivBackward0>)\n",
            "192 tensor(0.0002, device='cuda:0', grad_fn=<DivBackward0>)\n",
            "193 tensor(0.0002, device='cuda:0', grad_fn=<DivBackward0>)\n",
            "194 tensor(0.0002, device='cuda:0', grad_fn=<DivBackward0>)\n",
            "195 tensor(0.0002, device='cuda:0', grad_fn=<DivBackward0>)\n",
            "196 tensor(0.0002, device='cuda:0', grad_fn=<DivBackward0>)\n",
            "197 tensor(0.0002, device='cuda:0', grad_fn=<DivBackward0>)\n",
            "198 tensor(0.0002, device='cuda:0', grad_fn=<DivBackward0>)\n",
            "199 tensor(0.0002, device='cuda:0', grad_fn=<DivBackward0>)\n",
            "200 tensor(0.0002, device='cuda:0', grad_fn=<DivBackward0>)\n",
            "201 tensor(0.0002, device='cuda:0', grad_fn=<DivBackward0>)\n",
            "202 tensor(0.0002, device='cuda:0', grad_fn=<DivBackward0>)\n",
            "203 tensor(0.0002, device='cuda:0', grad_fn=<DivBackward0>)\n",
            "204 tensor(0.0002, device='cuda:0', grad_fn=<DivBackward0>)\n",
            "205 tensor(0.0002, device='cuda:0', grad_fn=<DivBackward0>)\n",
            "206 tensor(0.0002, device='cuda:0', grad_fn=<DivBackward0>)\n",
            "207 tensor(0.0002, device='cuda:0', grad_fn=<DivBackward0>)\n",
            "208 tensor(0.0002, device='cuda:0', grad_fn=<DivBackward0>)\n",
            "209 tensor(0.0002, device='cuda:0', grad_fn=<DivBackward0>)\n",
            "210 tensor(0.0002, device='cuda:0', grad_fn=<DivBackward0>)\n",
            "211 tensor(0.0002, device='cuda:0', grad_fn=<DivBackward0>)\n",
            "212 tensor(0.0002, device='cuda:0', grad_fn=<DivBackward0>)\n",
            "213 tensor(0.0002, device='cuda:0', grad_fn=<DivBackward0>)\n",
            "214 tensor(0.0002, device='cuda:0', grad_fn=<DivBackward0>)\n",
            "215 tensor(0.0002, device='cuda:0', grad_fn=<DivBackward0>)\n",
            "216 tensor(0.0002, device='cuda:0', grad_fn=<DivBackward0>)\n",
            "217 tensor(0.0002, device='cuda:0', grad_fn=<DivBackward0>)\n",
            "218 tensor(0.0002, device='cuda:0', grad_fn=<DivBackward0>)\n",
            "219 tensor(0.0002, device='cuda:0', grad_fn=<DivBackward0>)\n",
            "220 tensor(0.0002, device='cuda:0', grad_fn=<DivBackward0>)\n",
            "221 tensor(0.0002, device='cuda:0', grad_fn=<DivBackward0>)\n",
            "222 tensor(0.0002, device='cuda:0', grad_fn=<DivBackward0>)\n",
            "223 tensor(0.0002, device='cuda:0', grad_fn=<DivBackward0>)\n",
            "224 tensor(0.0002, device='cuda:0', grad_fn=<DivBackward0>)\n",
            "225 tensor(0.0002, device='cuda:0', grad_fn=<DivBackward0>)\n",
            "226 tensor(0.0002, device='cuda:0', grad_fn=<DivBackward0>)\n",
            "227 tensor(0.0002, device='cuda:0', grad_fn=<DivBackward0>)\n",
            "228 tensor(0.0002, device='cuda:0', grad_fn=<DivBackward0>)\n",
            "229 tensor(0.0002, device='cuda:0', grad_fn=<DivBackward0>)\n",
            "230 tensor(0.0002, device='cuda:0', grad_fn=<DivBackward0>)\n",
            "231 tensor(0.0002, device='cuda:0', grad_fn=<DivBackward0>)\n",
            "232 tensor(0.0002, device='cuda:0', grad_fn=<DivBackward0>)\n",
            "233 tensor(0.0002, device='cuda:0', grad_fn=<DivBackward0>)\n",
            "234 tensor(0.0002, device='cuda:0', grad_fn=<DivBackward0>)\n",
            "235 tensor(0.0002, device='cuda:0', grad_fn=<DivBackward0>)\n",
            "236 tensor(0.0002, device='cuda:0', grad_fn=<DivBackward0>)\n",
            "237 tensor(0.0002, device='cuda:0', grad_fn=<DivBackward0>)\n",
            "238 tensor(0.0002, device='cuda:0', grad_fn=<DivBackward0>)\n",
            "239 tensor(0.0002, device='cuda:0', grad_fn=<DivBackward0>)\n",
            "240 tensor(0.0002, device='cuda:0', grad_fn=<DivBackward0>)\n",
            "241 tensor(0.0002, device='cuda:0', grad_fn=<DivBackward0>)\n",
            "242 tensor(0.0002, device='cuda:0', grad_fn=<DivBackward0>)\n",
            "243 tensor(0.0002, device='cuda:0', grad_fn=<DivBackward0>)\n",
            "244 tensor(0.0002, device='cuda:0', grad_fn=<DivBackward0>)\n",
            "245 tensor(0.0002, device='cuda:0', grad_fn=<DivBackward0>)\n",
            "246 tensor(0.0002, device='cuda:0', grad_fn=<DivBackward0>)\n",
            "247 tensor(0.0002, device='cuda:0', grad_fn=<DivBackward0>)\n",
            "248 tensor(0.0002, device='cuda:0', grad_fn=<DivBackward0>)\n",
            "249 tensor(0.0002, device='cuda:0', grad_fn=<DivBackward0>)\n",
            "250 tensor(0.0002, device='cuda:0', grad_fn=<DivBackward0>)\n",
            "251 tensor(0.0002, device='cuda:0', grad_fn=<DivBackward0>)\n",
            "252 tensor(0.0002, device='cuda:0', grad_fn=<DivBackward0>)\n",
            "253 tensor(0.0002, device='cuda:0', grad_fn=<DivBackward0>)\n",
            "254 tensor(0.0002, device='cuda:0', grad_fn=<DivBackward0>)\n",
            "255 tensor(0.0002, device='cuda:0', grad_fn=<DivBackward0>)\n",
            "256 tensor(0.0002, device='cuda:0', grad_fn=<DivBackward0>)\n",
            "257 tensor(0.0002, device='cuda:0', grad_fn=<DivBackward0>)\n",
            "258 tensor(0.0002, device='cuda:0', grad_fn=<DivBackward0>)\n",
            "259 tensor(0.0002, device='cuda:0', grad_fn=<DivBackward0>)\n",
            "260 tensor(0.0002, device='cuda:0', grad_fn=<DivBackward0>)\n",
            "261 tensor(0.0002, device='cuda:0', grad_fn=<DivBackward0>)\n",
            "262 tensor(0.0002, device='cuda:0', grad_fn=<DivBackward0>)\n",
            "263 tensor(0.0002, device='cuda:0', grad_fn=<DivBackward0>)\n",
            "264 tensor(0.0002, device='cuda:0', grad_fn=<DivBackward0>)\n",
            "265 tensor(0.0002, device='cuda:0', grad_fn=<DivBackward0>)\n",
            "266 tensor(0.0002, device='cuda:0', grad_fn=<DivBackward0>)\n",
            "267 tensor(0.0002, device='cuda:0', grad_fn=<DivBackward0>)\n",
            "268 tensor(0.0002, device='cuda:0', grad_fn=<DivBackward0>)\n",
            "269 tensor(0.0002, device='cuda:0', grad_fn=<DivBackward0>)\n",
            "270 tensor(0.0002, device='cuda:0', grad_fn=<DivBackward0>)\n",
            "271 tensor(0.0002, device='cuda:0', grad_fn=<DivBackward0>)\n",
            "272 tensor(0.0002, device='cuda:0', grad_fn=<DivBackward0>)\n",
            "273 tensor(0.0002, device='cuda:0', grad_fn=<DivBackward0>)\n",
            "274 tensor(0.0002, device='cuda:0', grad_fn=<DivBackward0>)\n",
            "275 tensor(0.0002, device='cuda:0', grad_fn=<DivBackward0>)\n",
            "276 tensor(0.0002, device='cuda:0', grad_fn=<DivBackward0>)\n",
            "277 tensor(0.0002, device='cuda:0', grad_fn=<DivBackward0>)\n",
            "278 tensor(0.0002, device='cuda:0', grad_fn=<DivBackward0>)\n",
            "279 tensor(0.0002, device='cuda:0', grad_fn=<DivBackward0>)\n",
            "280 tensor(0.0002, device='cuda:0', grad_fn=<DivBackward0>)\n",
            "281 tensor(0.0002, device='cuda:0', grad_fn=<DivBackward0>)\n",
            "282 tensor(0.0002, device='cuda:0', grad_fn=<DivBackward0>)\n",
            "283 tensor(0.0002, device='cuda:0', grad_fn=<DivBackward0>)\n",
            "284 tensor(0.0002, device='cuda:0', grad_fn=<DivBackward0>)\n",
            "285 tensor(0.0002, device='cuda:0', grad_fn=<DivBackward0>)\n",
            "286 tensor(0.0002, device='cuda:0', grad_fn=<DivBackward0>)\n",
            "287 tensor(0.0002, device='cuda:0', grad_fn=<DivBackward0>)\n",
            "288 tensor(0.0002, device='cuda:0', grad_fn=<DivBackward0>)\n",
            "289 tensor(0.0002, device='cuda:0', grad_fn=<DivBackward0>)\n",
            "290 tensor(0.0002, device='cuda:0', grad_fn=<DivBackward0>)\n",
            "291 tensor(0.0002, device='cuda:0', grad_fn=<DivBackward0>)\n",
            "292 tensor(0.0002, device='cuda:0', grad_fn=<DivBackward0>)\n",
            "293 tensor(0.0002, device='cuda:0', grad_fn=<DivBackward0>)\n",
            "294 tensor(0.0002, device='cuda:0', grad_fn=<DivBackward0>)\n",
            "295 tensor(0.0002, device='cuda:0', grad_fn=<DivBackward0>)\n",
            "296 tensor(0.0002, device='cuda:0', grad_fn=<DivBackward0>)\n",
            "297 tensor(0.0002, device='cuda:0', grad_fn=<DivBackward0>)\n",
            "298 tensor(0.0002, device='cuda:0', grad_fn=<DivBackward0>)\n",
            "299 tensor(0.0002, device='cuda:0', grad_fn=<DivBackward0>)\n"
          ]
        }
      ],
      "source": [
        "model.train()\n",
        "\n",
        "for epoch in range(300):  # loop over the dataset multiple times\n",
        "    \n",
        "    sum_loss = 0\n",
        "\n",
        "    for inputs, labels in train_data_loader:\n",
        "        # get the inputs; data is a list of [inputs, labels]\n",
        "\n",
        "        inputs = inputs.to(device)\n",
        "        labels = labels.to(device)\n",
        "\n",
        "        # zero the parameter gradients\n",
        "        optimizer.zero_grad()\n",
        "\n",
        "        # forward + backward + optimize\n",
        "        preds = model(inputs.float())\n",
        "        preds = torch.sigmoid(preds)\n",
        "        loss = MSELoss(preds, labels.float())\n",
        "        \n",
        "        loss.backward()\n",
        "        optimizer.step()\n",
        "\n",
        "        sum_loss += loss\n",
        "    \n",
        "    print(epoch, sum_loss / X_train.shape[0])"
      ]
    },
    {
      "cell_type": "markdown",
      "metadata": {
        "id": "0IjO96HIpwKi"
      },
      "source": [
        "## Walidacja"
      ]
    },
    {
      "cell_type": "code",
      "execution_count": 21,
      "metadata": {
        "colab": {
          "base_uri": "https://localhost:8080/"
        },
        "id": "HyCFllnMpwKi",
        "outputId": "3497815d-dab9-48a1-a39a-9b2495c3af32"
      },
      "outputs": [
        {
          "name": "stdout",
          "output_type": "stream",
          "text": [
            "Accuracy of the model: 87.03%\n"
          ]
        }
      ],
      "source": [
        "model.eval()\n",
        "true_preds, num_preds = 0., 0.\n",
        "\n",
        "with torch.no_grad(): # Deactivate gradients for the following code\n",
        "    for data_inputs, data_labels in test_dataset:\n",
        "        # Determine prediction of model on dev set\n",
        "        data_inputs, data_labels = data_inputs.to(device), data_labels.to(device)\n",
        "        preds = model(data_inputs.unsqueeze(dim=0).float())\n",
        "        preds = torch.sigmoid(preds) # Sigmoid to map predictions between 0 and 1\n",
        "        preds = preds.cpu()\n",
        "        preds = preds.numpy()\n",
        "        preds = preds.squeeze()\n",
        "\n",
        "        preds = [int (x == max(preds)) for x in preds]\n",
        "\n",
        "        # Keep records of predictions for the accuracy metric (true_preds=TP+TN, num_preds=TP+TN+FP+FN)\n",
        "        data_labels = data_labels.cpu()\n",
        "        true_preds += (np.argmax(preds)) == np.argmax(data_labels.numpy()).sum()\n",
        "        num_preds += 1\n",
        "        \n",
        "acc = true_preds / num_preds\n",
        "print(f\"Accuracy of the model: {100.0*acc:4.2f}%\")"
      ]
    },
    {
      "cell_type": "markdown",
      "metadata": {
        "id": "SehzvQ0upwKi"
      },
      "source": [
        "## Przewidywanie zbioru testowego"
      ]
    },
    {
      "cell_type": "code",
      "execution_count": 24,
      "metadata": {
        "id": "ZJzQcISdpwKi"
      },
      "outputs": [],
      "source": [
        "model.eval()\n",
        "\n",
        "preds_map = {0: \"cheap\",\n",
        "             1: \"average\",\n",
        "             2: \"expensive\"}\n",
        "\n",
        "all_preds = []\n",
        "\n",
        "with torch.no_grad(): # Deactivate gradients for the following code\n",
        "    for data_inputs in df_test.values:\n",
        "        # data_inputs = data_inputs.cpu()\n",
        "        preds = model(torch.tensor(data_inputs).unsqueeze(dim=0).float().to(device))\n",
        "        preds = torch.sigmoid(preds) # Sigmoid to map predictions between 0 and 1\n",
        "        preds = preds.cpu().numpy()\n",
        "        preds = preds.squeeze()\n",
        "\n",
        "        all_preds.append(preds_map.get(np.argmax(preds)))\n",
        "\n",
        "pd.DataFrame(all_preds).to_csv(\"results.csv\", index=False, header=None)"
      ]
    }
  ],
  "metadata": {
    "accelerator": "GPU",
    "colab": {
      "provenance": []
    },
    "gpuClass": "standard",
    "kernelspec": {
      "display_name": "Python 3",
      "language": "python",
      "name": "python3"
    },
    "language_info": {
      "codemirror_mode": {
        "name": "ipython",
        "version": 3
      },
      "file_extension": ".py",
      "mimetype": "text/x-python",
      "name": "python",
      "nbconvert_exporter": "python",
      "pygments_lexer": "ipython3",
      "version": "3.8.10 (default, Nov 14 2022, 12:59:47) \n[GCC 9.4.0]"
    },
    "orig_nbformat": 4,
    "vscode": {
      "interpreter": {
        "hash": "916dbcbb3f70747c44a77c7bcd40155683ae19c65e1c03b4aa3499c5328201f1"
      }
    }
  },
  "nbformat": 4,
  "nbformat_minor": 0
}
